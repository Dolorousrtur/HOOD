{
 "cells": [
  {
   "cell_type": "markdown",
   "metadata": {},
   "source": [
    "# Creating .pkl pose sequences\n",
    "\n",
    "This is legacy fuctionality. \n",
    "\n",
    "Currently, the repository supports direct inference with `.npz` pose sequences from AMASS. However, previously, the repository used its own format for the pose sequences stored in `.pkl` files. This notebook demonstrates how to create such `.pkl` files from AMASS `.npz` and VTO dataset's `.pkl`"
   ]
  },
  {
   "cell_type": "markdown",
   "metadata": {},
   "source": [
    "\n",
    "The `.pkl` file should contain a dictionary with the following contents\n",
    "* `body_pose`: numpy array of shape \\[Nx69\\] with a sequence of SMPL pose parameters\n",
    "* `global_orient`: global orientations of the body, \\[Nx3\\] array\n",
    "* `transl`: global translations of the body, \\[Nx3\\] array\n",
    "* `betas`: SMPL shape parameters, \\[10,\\] array\n",
    "\n",
    "\n",
    "Here we provide the functions to generate such files from two sources:\n",
    "* AMASS dataset (download **CMU** split with **SMPL+H** parameters from [here](https://amass.is.tue.mpg.de/))\n",
    "* VTO dataset (clone [this repository](https://github.com/isantesteban/vto-dataset) to download, all data is in the repo)"
   ]
  },
  {
   "cell_type": "markdown",
   "metadata": {},
   "source": [
    "# set enviromental variables"
   ]
  },
  {
   "cell_type": "markdown",
   "metadata": {},
   "source": [
    "Make sure you set these two enviromental variables:\n",
    "\n",
    "* `HOOD_PROJECT` should lead to the HOOD repository\n",
    "* `HOOD_DATA` should lead to the data folder (see `README.md` for details)"
   ]
  },
  {
   "cell_type": "code",
   "execution_count": null,
   "metadata": {},
   "outputs": [],
   "source": [
    "import os\n",
    "\n",
    "HOOD_PROJECT =  \"/path/to/hood/repository\"\n",
    "HOOD_DATA = \"/path/to/hood/data\"\n",
    "\n",
    "os.environ[\"HOOD_PROJECT\"] = HOOD_PROJECT\n",
    "os.environ[\"HOOD_DATA\"] = HOOD_DATA"
   ]
  },
  {
   "cell_type": "markdown",
   "metadata": {},
   "source": [
    "## AMASS .npz sequences &rarr;  HOOD .pkl"
   ]
  },
  {
   "cell_type": "markdown",
   "metadata": {},
   "source": [
    "Download **CMU** split with **SMPL+H** parameters from [here](https://amass.is.tue.mpg.de/)\n",
    "\n",
    "Then, set `AMASS_DATASET_PATH` to  the directory containint `CMU` folder"
   ]
  },
  {
   "cell_type": "code",
   "execution_count": null,
   "metadata": {},
   "outputs": [],
   "source": [
    "from utils.data_making import convert_amass_to_pkl\n",
    "from pathlib import Path\n",
    "\n",
    "AMASS_DATASET_PATH = '/path/to/amass-dataset/'\n",
    "\n",
    "amass_seq_path = Path(AMASS_DATASET_PATH) / 'CMU/01/01_01_poses.npz'\n",
    "target_pkl_path =  Path(HOOD_DATA) / 'temp/01_01.pkl'\n",
    "\n",
    "convert_amass_to_pkl(amass_seq_path, target_pkl_path, target_fps=30)\n",
    "print(f'Pose sequence saved into {target_pkl_path}')"
   ]
  },
  {
   "cell_type": "markdown",
   "metadata": {},
   "source": [
    "## sequence from the VTO dataset &rarr;  HOOD .pkl"
   ]
  },
  {
   "cell_type": "markdown",
   "metadata": {},
   "source": [
    "Clone [this repository](https://github.com/isantesteban/vto-dataset) to download the dataset. All data is in the repo.\n",
    "\n",
    "Then, set `VTO_DATASET_PATH` to the repository root."
   ]
  },
  {
   "cell_type": "code",
   "execution_count": null,
   "metadata": {},
   "outputs": [],
   "source": [
    "from pathlib import Path\n",
    "from utils.data_making import convert_vto_to_pkl\n",
    "\n",
    "\n",
    "VTO_DATASET_PATH = '/path/to/vto-dataset/'\n",
    "\n",
    "vto_sequence_path = Path(VTO_DATASET_PATH) / 'tshirt/simulations/tshirt_shape00_01_01.pkl'\n",
    "target_pkl_path =  Path(HOOD_DATA) / 'temp/01_01.pkl'\n",
    "\n",
    "\n",
    "convert_vto_to_pkl(vto_sequence_path, target_pkl_path, n_zeropose_interpolation_steps=30)\n",
    "print(f'Pose sequence saved into {target_pkl_path}')"
   ]
  }
 ],
 "metadata": {
  "language_info": {
   "name": "python"
  }
 },
 "nbformat": 4,
 "nbformat_minor": 2
}
