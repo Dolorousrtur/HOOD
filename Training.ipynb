{
 "cells": [
  {
   "cell_type": "markdown",
   "id": "241b2f33-bb13-47e9-8c87-ab55c3fbeeb4",
   "metadata": {},
   "source": [
    "## set enviromental variables"
   ]
  },
  {
   "cell_type": "markdown",
   "id": "3bd49a1f-e9c4-4a0c-9194-59ef77a0c3fb",
   "metadata": {},
   "source": [
    "Make sure you set these two enviromental variables:\n",
    "\n",
    "* `HOOD_PROJECT` should lead to the HOOD repository\n",
    "* `HOOD_DATA` should lead to a data folder (see `README.md` for details)"
   ]
  },
  {
   "cell_type": "code",
   "execution_count": null,
   "id": "326d0411-9f9f-409c-8c7d-9af3a3e3af16",
   "metadata": {},
   "outputs": [],
   "source": [
    "import os\n",
    "\n",
    "HOOD_PROJECT = \"/path/to/hood/repository\"\n",
    "HOOD_DATA = \"/path/to/hood/data\"\n",
    "\n",
    "os.environ[\"HOOD_PROJECT\"] = HOOD_PROJECT\n",
    "os.environ[\"HOOD_DATA\"] = HOOD_DATA\n"
   ]
  },
  {
   "cell_type": "markdown",
   "id": "82023827-c9be-4d33-b162-71b13cc83d13",
   "metadata": {},
   "source": [
    "## Download auxilliary data"
   ]
  },
  {
   "cell_type": "markdown",
   "id": "eec9edc8-7c7e-49e6-81ba-055bb140a541",
   "metadata": {},
   "source": [
    "To start training, you'll need to download some auixilliart data. See [README.md::Download data](README.md#download-data) for details"
   ]
  },
  {
   "cell_type": "markdown",
   "id": "e0a5fb58-409d-4127-9835-95d8f35cdea7",
   "metadata": {},
   "source": [
    "## Prepare dataset"
   ]
  },
  {
   "cell_type": "markdown",
   "id": "1e2776cb-608e-411a-bb6b-2e90b876428f",
   "metadata": {},
   "source": [
    "We train out model using the SMPL poses from the CMU split of the AMASS dataset. To use the same set of sequences, you should first download the VTO dataset by cloning [this repository](https://github.com/isantesteban/vto-dataset) (all data is in the repo). \n",
    "\n",
    "And then set the variable `VTO_DATASET_PATH` to its root:"
   ]
  },
  {
   "cell_type": "code",
   "execution_count": null,
   "id": "384f987c-3c59-4b71-8934-26b1850cc0d5",
   "metadata": {},
   "outputs": [],
   "source": [
    "VTO_DATASET_PATH = \"/path/to/vto-dataset\"\n"
   ]
  },
  {
   "cell_type": "markdown",
   "id": "9a9ff9bb-b91d-4864-8db4-835be0c8f63c",
   "metadata": {},
   "source": [
    "This dataset contains physical simulations of the garments along with SMPL parameters. We only need SMPL sequnces from it, so we need to convert the sequences from VTO to our format:"
   ]
  },
  {
   "cell_type": "code",
   "execution_count": null,
   "id": "b52af6b4-a864-46c9-9ce7-cd380e3d374b",
   "metadata": {},
   "outputs": [],
   "source": [
    "from pathlib import Path\n",
    "from utils.defaults import DEFAULTS\n",
    "from utils.data_making import convert_vto_to_pkl\n",
    "from tqdm import tqdm\n",
    "\n",
    "simulations_path = Path(VTO_DATASET_PATH) / 'tshirt' / 'simulations'\n",
    "\n",
    "out_root = Path(DEFAULTS.vto_root) / 'smpl_parameters'\n",
    "\n",
    "print(f'Saving sequences to {out_root}')\n",
    "for simulation_path in tqdm(list(simulations_path.iterdir())):\n",
    "    out_path = out_root / simulation_path.name\n",
    "    \n",
    "    convert_vto_to_pkl(simulation_path, out_path)"
   ]
  },
  {
   "cell_type": "markdown",
   "id": "f36ec5f0-a4fa-40c6-b840-f2913d6e78d5",
   "metadata": {},
   "source": [
    "## Start Training"
   ]
  },
  {
   "cell_type": "markdown",
   "id": "d8bd5f08-8cb2-40fe-b53f-e9e6f544913c",
   "metadata": {},
   "source": [
    "Now you can start the training with the following commands\n",
    "\n",
    "```\n",
    "# set enviromental variables\n",
    "export HOOD_PROJECT=\"/path/to/hood/repository\"\n",
    "export HOOD_DATA=\"/path/to/hood/data\"\n",
    "\n",
    "# start training\n",
    "python train.py config=postcvpr_train\n",
    "\n",
    "```"
   ]
  },
  {
   "cell_type": "code",
   "execution_count": null,
   "id": "c15de77b-765a-4dd6-9ec5-c91f2c30799d",
   "metadata": {},
   "outputs": [],
   "source": []
  }
 ],
 "metadata": {
  "kernelspec": {
   "display_name": "hood_public",
   "language": "python",
   "name": "hood_public"
  },
  "language_info": {
   "codemirror_mode": {
    "name": "ipython",
    "version": 3
   },
   "file_extension": ".py",
   "mimetype": "text/x-python",
   "name": "python",
   "nbconvert_exporter": "python",
   "pygments_lexer": "ipython3",
   "version": "3.10.9"
  }
 },
 "nbformat": 4,
 "nbformat_minor": 5
}
